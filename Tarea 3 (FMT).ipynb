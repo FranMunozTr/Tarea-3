{
 "cells": [
  {
   "cell_type": "markdown",
   "id": "de6fd738",
   "metadata": {},
   "source": [
    "**Tarea 3**\n",
    "\n",
    "*Herramientas de analisis de datos*\n",
    "\n",
    "**Alumna**: Francisca Muñoz Troncoso. \n",
    "\n",
    "**Carrera**: Ingenieria Civil en Biotecnologia.b"
   ]
  },
  {
   "cell_type": "markdown",
   "id": "3bb13e90",
   "metadata": {},
   "source": [
    "**Ejercicio 1**"
   ]
  },
  {
   "cell_type": "code",
   "execution_count": 1,
   "id": "3267d68f",
   "metadata": {},
   "outputs": [],
   "source": [
    "from numpy import *\n",
    "from math import sqrt"
   ]
  },
  {
   "cell_type": "code",
   "execution_count": 44,
   "id": "2637646f",
   "metadata": {
    "scrolled": true
   },
   "outputs": [],
   "source": [
    "def calcular_distancia(punto1, punto2):\n",
    "    x1 , y1 = punto1\n",
    "    x2 , y2 = punto2\n",
    "    distancia= sqrt((x1-x2)**2 + (y1-y2)**2)\n",
    "    return distancia"
   ]
  },
  {
   "cell_type": "code",
   "execution_count": 116,
   "id": "dac99b7f",
   "metadata": {},
   "outputs": [
    {
     "name": "stdout",
     "output_type": "stream",
     "text": [
      "distancia: 3.1622776601683795\n"
     ]
    }
   ],
   "source": [
    "punto1=(0,0)\n",
    "punto2=(1,3)\n",
    "distancia = calcular_distancia(punto1, punto2)\n",
    "print(\"distancia:\",distancia)"
   ]
  },
  {
   "cell_type": "code",
   "execution_count": 112,
   "id": "5f4ea9ed",
   "metadata": {
    "scrolled": true
   },
   "outputs": [],
   "source": [
    "def calcular_distancia_total(ruta):\n",
    "    distancia_total = 0\n",
    "    for i in range(len(ruta) - 1):\n",
    "        distancia_total += calcular_distancia(ruta[i], ruta[i+1])\n",
    "    return distancia_total"
   ]
  },
  {
   "cell_type": "code",
   "execution_count": 114,
   "id": "806cff99",
   "metadata": {},
   "outputs": [
    {
     "name": "stdout",
     "output_type": "stream",
     "text": [
      "Distancia total: 8.81913190966076\n"
     ]
    }
   ],
   "source": [
    "ruta = [(0, 0), (1, 3), (3, 5), (5, 3)]\n",
    "distancia_total = calcular_distancia_total(ruta)\n",
    "print(\"Distancia total:\", distancia_total)"
   ]
  },
  {
   "cell_type": "code",
   "execution_count": 115,
   "id": "4af7e918",
   "metadata": {},
   "outputs": [
    {
     "name": "stdout",
     "output_type": "stream",
     "text": [
      "Distancia total: 12.782484645209152\n"
     ]
    }
   ],
   "source": [
    "ruta = [(0, 0), (3, 5), (1,3), (5, 2)]\n",
    "distancia_total = calcular_distancia_total(ruta)\n",
    "print(\"Distancia total:\", distancia_total)"
   ]
  },
  {
   "cell_type": "code",
   "execution_count": 113,
   "id": "fdab29ae",
   "metadata": {
    "scrolled": true
   },
   "outputs": [
    {
     "name": "stdout",
     "output_type": "stream",
     "text": [
      "Distancia total: 13.559608795926952\n"
     ]
    }
   ],
   "source": [
    "ruta = [(0, 0), (3, 5), (5, 2), (1, 3)]\n",
    "distancia_total = calcular_distancia_total(ruta)\n",
    "print(\"Distancia total:\", distancia_total)"
   ]
  },
  {
   "cell_type": "code",
   "execution_count": 74,
   "id": "142a6a42",
   "metadata": {},
   "outputs": [
    {
     "name": "stdout",
     "output_type": "stream",
     "text": [
      "Ruta optimizada: [(0, 0), (1, 3), (3, 5), (5, 2)]\n"
     ]
    }
   ],
   "source": [
    "def optimizacion_ruta(rutas):\n",
    "    ruta1= calcular_distancia_total(rutas[0])\n",
    "    ruta2= calcular_distancia_total(rutas[1])\n",
    "    ruta3= calcular_distancia_total(rutas[2])\n",
    "    if ruta1 < ruta2 < ruta3:\n",
    "        return rutas[0] \n",
    "    elif ruta2 < ruta1 < ruta3:\n",
    "        return rutas[1] \n",
    "    else: \n",
    "        return rutas[2] \n",
    "\n",
    "rutas = [[(0, 0), (1, 3), (3, 5), (5, 2)],\n",
    "         [(0, 0), (3, 5), (1, 3), (5, 2)],\n",
    "         [(0, 0), (3, 5), (5, 2), (1, 3)]]\n",
    "ruta_optimizada = optimizacion_ruta(rutas)\n",
    "print(\"Ruta optimizada:\", ruta_optimizada)"
   ]
  },
  {
   "cell_type": "markdown",
   "id": "eeb87553",
   "metadata": {},
   "source": [
    "**Ejercicio 1**"
   ]
  },
  {
   "cell_type": "code",
   "execution_count": 106,
   "id": "c0a1ae45",
   "metadata": {
    "scrolled": true
   },
   "outputs": [
    {
     "name": "stdout",
     "output_type": "stream",
     "text": [
      "Libro 1: Veinte poemas de amor y una canción desesperada de autor Pablo Neruda\n",
      "Disponibilidad: si\n",
      "Libro 2: Don Quijote de la Mancha de autor Miguel de Cervantes\n",
      "Disponibilidad: si\n"
     ]
    }
   ],
   "source": [
    "class Libro():\n",
    "    def __init__(self, titulo, autor, disponibilidad): \n",
    "        self.titulo = titulo\n",
    "        self.autor = autor\n",
    "        self.disponibilidad = disponibilidad\n",
    "\n",
    "    def obtener_titulo(self): \n",
    "        return self.titulo\n",
    "\n",
    "    def obtener_autor(self):\n",
    "        return self.autor\n",
    "\n",
    "    def esta_disponible(self):\n",
    "        return self.disponibilidad\n",
    "\n",
    "    def libro_prestado(self):\n",
    "        if self.disponibilidad == \"si\": \n",
    "            print(\"El libro {}, de autor {} ha sido prestado\".format(self.titulo, self.autor)) \n",
    "            self.disponibilidad = \"no\"  \n",
    "        elif self.disponibilidad == \"no\": \n",
    "            print(\"El libro {}, de autor {} no está disponible\".format(self.titulo, self.autor)) \n",
    "\n",
    "    def devolver_libro(self): \n",
    "        if self.disponibilidad == \"no\": \n",
    "            print(\"El libro {}, de autor {} ha sido devuelto\".format(self.titulo, self.autor)) \n",
    "            self.disponibilidad = \"si\"  \n",
    "        elif self.disponibilidad == \"si\": \n",
    "            print(\"Error, El libro {}, de autor {} ya está disponible\".format(self.titulo, self.autor))\n",
    "            self.disponibilidad = \"si\" \n",
    "libro1 = Libro(\"Veinte poemas de amor y una canción desesperada\", \"Pablo Neruda\", \"si\")\n",
    "libro2 = Libro(\"Don Quijote de la Mancha\", \"Miguel de Cervantes\", \"si\")\n",
    "\n",
    "print(\"Libro 1: {} de autor {}\".format(libro1.obtener_titulo(), libro1.obtener_autor()))\n",
    "print(\"Disponibilidad: {}\".format(libro1.esta_disponible()))\n",
    "\n",
    "print(\"Libro 2: {} de autor {}\".format(libro2.obtener_titulo(), libro2.obtener_autor()))\n",
    "print(\"Disponibilidad: {}\".format(libro2.esta_disponible()))"
   ]
  },
  {
   "cell_type": "code",
   "execution_count": 102,
   "id": "a66f206f",
   "metadata": {
    "scrolled": true
   },
   "outputs": [
    {
     "name": "stdout",
     "output_type": "stream",
     "text": [
      "El libro Veinte poemas de amor y una canción desesperada, de autor Pablo Neruda ha sido prestado\n",
      "Libro 1: Veinte poemas de amor y una canción desesperada de autor Pablo Neruda\n",
      "Disponibilidad: no\n"
     ]
    }
   ],
   "source": [
    "libro1.libro_prestado()\n",
    "print(\"Libro 1: {} de autor {}\".format(libro1.obtener_titulo(), libro1.obtener_autor()))\n",
    "print(\"Disponibilidad: {}\".format(libro1.esta_disponible()))"
   ]
  },
  {
   "cell_type": "code",
   "execution_count": 110,
   "id": "7d246e16",
   "metadata": {
    "scrolled": true
   },
   "outputs": [
    {
     "name": "stdout",
     "output_type": "stream",
     "text": [
      "El libro Veinte poemas de amor y una canción desesperada, de autor Pablo Neruda ha sido prestado\n",
      "Libro 1: Veinte poemas de amor y una canción desesperada de autor Pablo Neruda\n",
      "Disponibilidad: no\n"
     ]
    }
   ],
   "source": [
    "libro1.libro_prestado()\n",
    "print(\"Libro 1: {} de autor {}\".format(libro1.obtener_titulo(), libro1.obtener_autor()))\n",
    "print(\"Disponibilidad: {}\".format(libro1.esta_disponible()))"
   ]
  },
  {
   "cell_type": "code",
   "execution_count": 111,
   "id": "5365ddba",
   "metadata": {
    "scrolled": true
   },
   "outputs": [
    {
     "name": "stdout",
     "output_type": "stream",
     "text": [
      "El libro Veinte poemas de amor y una canción desesperada, de autor Pablo Neruda ha sido devuelto\n",
      "Libro 1: Veinte poemas de amor y una canción desesperada de autor Pablo Neruda\n",
      "Disponibilidad: si\n"
     ]
    }
   ],
   "source": [
    "libro1.devolver_libro()\n",
    "print(\"Libro 1: {} de autor {}\".format(libro1.obtener_titulo(), libro1.obtener_autor()))\n",
    "print(\"Disponibilidad: {}\".format(libro1.esta_disponible()))"
   ]
  },
  {
   "cell_type": "code",
   "execution_count": 108,
   "id": "61473430",
   "metadata": {},
   "outputs": [
    {
     "name": "stdout",
     "output_type": "stream",
     "text": [
      "Error, El libro Don Quijote de la Mancha, de autor Miguel de Cervantes ya está disponible\n",
      "Libro 1: Don Quijote de la Mancha de autor Miguel de Cervantes\n",
      "Disponibilidad: si\n"
     ]
    }
   ],
   "source": [
    "libro2.devolver_libro()\n",
    "print(\"Libro 1: {} de autor {}\".format(libro2.obtener_titulo(), libro2.obtener_autor()))\n",
    "print(\"Disponibilidad: {}\".format(libro2.esta_disponible()))"
   ]
  }
 ],
 "metadata": {
  "kernelspec": {
   "display_name": "Python 3 (ipykernel)",
   "language": "python",
   "name": "python3"
  },
  "language_info": {
   "codemirror_mode": {
    "name": "ipython",
    "version": 3
   },
   "file_extension": ".py",
   "mimetype": "text/x-python",
   "name": "python",
   "nbconvert_exporter": "python",
   "pygments_lexer": "ipython3",
   "version": "3.10.9"
  }
 },
 "nbformat": 4,
 "nbformat_minor": 5
}
